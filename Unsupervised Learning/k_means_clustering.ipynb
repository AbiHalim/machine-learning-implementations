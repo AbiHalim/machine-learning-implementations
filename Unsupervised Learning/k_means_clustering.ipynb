{
 "cells": [
  {
   "cell_type": "markdown",
   "metadata": {},
   "source": [
    "Here, I am implementing the K-means Clustering algorithm which is used to group different points together, used in things such as image compression. "
   ]
  },
  {
   "cell_type": "code",
   "execution_count": null,
   "metadata": {},
   "outputs": [],
   "source": [
    "\"\"\"\n",
    "Euclidian distance between a and b\n",
    "\"\"\"\n",
    "def euclidian_distance(a: tuple, b: tuple):\n",
    "  x1, y1 = a[0], a[1]\n",
    "  x2, y2 = b[0], b[1]\n",
    "  return ((x2-x1)**2 + (y2-y1)**2)**0.5\n",
    "\n",
    "\"\"\"\n",
    "Given a list of points, returns the mean of the points\n",
    "\"\"\"\n",
    "def mean_point(points: list):\n",
    "  x = []\n",
    "  y = []\n",
    "  for point in points:\n",
    "    x.append(point[0])\n",
    "    y.append(point[1])\n",
    "  \n",
    "  x_mean = sum(x) / len(x)\n",
    "  y_mean = sum(y) / len(y)\n",
    "  return (x_mean, y_mean)\n",
    "\n",
    "# Dummy max integer value variable\n",
    "MAX_VALUE = 999"
   ]
  },
  {
   "cell_type": "code",
   "execution_count": null,
   "metadata": {},
   "outputs": [],
   "source": [
    "def k_means(points: list, centroids: list):\n",
    "  n = len(centroids)\n",
    "  clusters = {}\n",
    "\n",
    "  while True:\n",
    "    for centroid in centroids:\n",
    "      clusters[centroid] = []\n",
    "\n",
    "    # Assign points\n",
    "    for point in points:\n",
    "      min_distance = MAX_VALUE\n",
    "      closest_centroid = (MAX_VALUE, MAX_VALUE)\n",
    "\n",
    "      for centroid in centroids:\n",
    "        curr_distance = euclidian_distance(point, centroid)\n",
    "        if curr_distance < min_distance:\n",
    "          min_distance = curr_distance\n",
    "          closest_centroid = centroid\n",
    "      clusters[closest_centroid].append(point)\n",
    "      \n",
    "    print(\"new clusters: \", clusters)\n",
    "\n",
    "    # Re-assign centroids\n",
    "    new_centroids = []\n",
    "    for centroid in centroids:\n",
    "      new_centroids.append(mean_point(clusters[centroid]))\n",
    "    if centroids == new_centroids:\n",
    "      break\n",
    "    else:\n",
    "      centroids = new_centroids\n",
    "      clusters = {}\n",
    "\n",
    "  return clusters"
   ]
  },
  {
   "cell_type": "markdown",
   "metadata": {},
   "source": [
    "I also implemented K-medoids Clustering, which is similar to K-means but uses the median of the existing points instead of the mean, hence is less affected by outliers."
   ]
  },
  {
   "cell_type": "code",
   "execution_count": null,
   "metadata": {},
   "outputs": [],
   "source": [
    "def k_medoids(points: list, medoids: list):\n",
    "    while True:\n",
    "        # Initialize clusters\n",
    "        clusters = {medoid: [] for medoid in medoids}\n",
    "\n",
    "        # Assign points to the nearest medoid\n",
    "        for point in points:\n",
    "            # Use float('inf') for a more robust initial max distance\n",
    "            min_distance = float('inf')\n",
    "            closest_medoid = None\n",
    "            for medoid in medoids:\n",
    "                curr_distance = euclidian_distance(point, medoid)\n",
    "                if curr_distance < min_distance:\n",
    "                    min_distance = curr_distance\n",
    "                    closest_medoid = medoid\n",
    "            clusters[closest_medoid].append(point)\n",
    "\n",
    "        print(\"New clusters:\", clusters)\n",
    "\n",
    "        # Update medoids\n",
    "        new_medoids = []\n",
    "        for medoid, cluster_points in clusters.items():\n",
    "            # If the cluster is empty, keep the old medoid\n",
    "            if not cluster_points:\n",
    "                new_medoids.append(medoid)\n",
    "            else:\n",
    "                best_candidate = None\n",
    "                best_total_distance = float('inf')\n",
    "                for candidate in cluster_points:\n",
    "                    # Sum the distances from candidate to every other point in the cluster\n",
    "                    total_distance = sum(euclidian_distance(candidate, other) for other in cluster_points)\n",
    "                    if total_distance < best_total_distance:\n",
    "                        best_total_distance = total_distance\n",
    "                        best_candidate = candidate\n",
    "                new_medoids.append(best_candidate)\n",
    "\n",
    "        # Check for convergence\n",
    "        if new_medoids == medoids:\n",
    "            break\n",
    "        else:\n",
    "            medoids = new_medoids\n",
    "\n",
    "    return clusters"
   ]
  }
 ],
 "metadata": {
  "language_info": {
   "name": "python"
  }
 },
 "nbformat": 4,
 "nbformat_minor": 2
}
