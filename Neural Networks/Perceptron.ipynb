{
 "cells": [
  {
   "cell_type": "markdown",
   "metadata": {},
   "source": [
    "For this implementation, I am trying to model the basic logic gates `AND`, `OR`, and `NOT`."
   ]
  },
  {
   "cell_type": "code",
   "execution_count": 73,
   "metadata": {},
   "outputs": [],
   "source": [
    "AND = [(0, 0, 0), (0, 1, 0), (1, 0, 0), (1, 1, 1)]\n",
    "OR = [(0, 0, 0), (0, 1, 1), (1, 0, 1), (1, 1, 1)]\n",
    "NOT = [(0, 1), (1, 0)]"
   ]
  },
  {
   "cell_type": "code",
   "execution_count": 74,
   "metadata": {},
   "outputs": [],
   "source": [
    "\"\"\"\n",
    "Some helper functions, including activation functions which can be used,\n",
    "namely the heaviside function and basic sign function.\n",
    "\"\"\"\n",
    "def heaviside(z: int):\n",
    "    return 1 if z >= 0 else 0\n",
    "\n",
    "def sign(z: int):\n",
    "    return 1 if z > 0 else -1\n",
    "\n",
    "def hw(w: list, point: tuple):\n",
    "    return sum([x*y for x,y in zip(w,point[:len(point)-1])])"
   ]
  },
  {
   "cell_type": "code",
   "execution_count": 75,
   "metadata": {},
   "outputs": [],
   "source": [
    "\"\"\"\n",
    "The main Perceptron Learning Algorithm, default learning rate = 0.1\n",
    "\"\"\"\n",
    "def perceptron(data: list[tuple], rate=0.1, activation=heaviside):\n",
    "    n = len(data[0])\n",
    "    data = [(1,) + tup for tup in data] # initialize dummy variable = 1 for each point\n",
    "    w = [0.0 for i in range(n)] # initialize weights = 0\n",
    "    converged = False\n",
    "\n",
    "    for i in range(100):\n",
    "      converged = True\n",
    "      for point in data:\n",
    "          # predict yhat\n",
    "          yhat = heaviside(hw(w, point))\n",
    "          y = point[-1]\n",
    "\n",
    "          # update weights if misclassified\n",
    "          if yhat != y:\n",
    "              converged = False\n",
    "              step = (y - yhat) * rate\n",
    "              for i in range(n):\n",
    "                  w[i] = int(w[i] + step * point[i])\n",
    "      if converged:\n",
    "          break\n",
    "    \n",
    "    return w    "
   ]
  },
  {
   "cell_type": "code",
   "execution_count": 76,
   "metadata": {},
   "outputs": [],
   "source": [
    "\"\"\"\n",
    "Helper function to test the results\n",
    "\"\"\"\n",
    "\n",
    "def testweights(data: list[tuple], w: list):\n",
    "    correct = True\n",
    "    data = [(1,) + tup for tup in data]\n",
    "    for point in data:\n",
    "        yhat = heaviside(hw(w, point))\n",
    "        y = point[-1]\n",
    "\n",
    "        print(f\"POINT {point}: PREDICTED = {yhat}, ACTUAL = {y}, RESULT = {y==yhat}\")\n",
    "        if y != yhat:\n",
    "            correct = False\n",
    "    print(\"TRUE\" if correct else \"FALSE\")\n",
    "    return correct"
   ]
  },
  {
   "cell_type": "markdown",
   "metadata": {},
   "source": [
    "And these are the weights returned by my Perceptron Learning Algorithm:\n",
    "`AND` gate: [-0.20000000000000004, 0.2, 0.1]\n",
    "`OR` gate: [-0.1, 0.1, 0.1]\n",
    "`NOT` gate: [0.0, -0.1]"
   ]
  },
  {
   "cell_type": "code",
   "execution_count": 77,
   "metadata": {},
   "outputs": [
    {
     "name": "stdout",
     "output_type": "stream",
     "text": [
      "[0, 0, 0]\n",
      "POINT (1, 0, 0, 0): PREDICTED = 1, ACTUAL = 0, RESULT = False\n",
      "POINT (1, 0, 1, 0): PREDICTED = 1, ACTUAL = 0, RESULT = False\n",
      "POINT (1, 1, 0, 0): PREDICTED = 1, ACTUAL = 0, RESULT = False\n",
      "POINT (1, 1, 1, 1): PREDICTED = 1, ACTUAL = 1, RESULT = True\n",
      "FALSE\n",
      "[0, 0, 0]\n",
      "POINT (1, 0, 0, 0): PREDICTED = 1, ACTUAL = 0, RESULT = False\n",
      "POINT (1, 0, 1, 1): PREDICTED = 1, ACTUAL = 1, RESULT = True\n",
      "POINT (1, 1, 0, 1): PREDICTED = 1, ACTUAL = 1, RESULT = True\n",
      "POINT (1, 1, 1, 1): PREDICTED = 1, ACTUAL = 1, RESULT = True\n",
      "FALSE\n",
      "[0, 0]\n",
      "POINT (1, 0, 1): PREDICTED = 1, ACTUAL = 1, RESULT = True\n",
      "POINT (1, 1, 0): PREDICTED = 1, ACTUAL = 0, RESULT = False\n",
      "FALSE\n"
     ]
    },
    {
     "data": {
      "text/plain": [
       "False"
      ]
     },
     "execution_count": 77,
     "metadata": {},
     "output_type": "execute_result"
    }
   ],
   "source": [
    "weights = perceptron(AND)\n",
    "print(weights)\n",
    "testweights(AND, weights)\n",
    "\n",
    "weights = perceptron(OR)\n",
    "print(weights)\n",
    "testweights(OR, weights)\n",
    "\n",
    "weights = perceptron(NOT)\n",
    "print(weights)\n",
    "testweights(NOT, weights)"
   ]
  }
 ],
 "metadata": {
  "kernelspec": {
   "display_name": "cs2109s-ay2425s2",
   "language": "python",
   "name": "python3"
  },
  "language_info": {
   "codemirror_mode": {
    "name": "ipython",
    "version": 3
   },
   "file_extension": ".py",
   "mimetype": "text/x-python",
   "name": "python",
   "nbconvert_exporter": "python",
   "pygments_lexer": "ipython3",
   "version": "3.12.1"
  }
 },
 "nbformat": 4,
 "nbformat_minor": 2
}
